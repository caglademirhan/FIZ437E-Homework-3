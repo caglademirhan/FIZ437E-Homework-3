{
 "cells": [
  {
   "cell_type": "code",
   "execution_count": 1,
   "metadata": {},
   "outputs": [],
   "source": [
    "import os\n",
    "import struct\n",
    "import numpy as np\n",
    "import torch\n",
    "from torch import nn\n",
    "from torch import optim\n",
    "from PIL import Image\n",
    "from torch.utils.data import Dataset\n",
    "from torchvision import transforms\n",
    "from torchvision import datasets, transforms\n",
    "from torch.utils.data import random_split, DataLoader\n",
    "import matplotlib.pyplot as plt"
   ]
  },
  {
   "cell_type": "code",
   "execution_count": 2,
   "metadata": {},
   "outputs": [],
   "source": [
    "\n",
    "__all__ = [\"ColorMNIST\"]\n",
    "\n",
    "\n",
    "class ColorMNIST(Dataset):\n",
    "    def __init__(self, color, split, path, transform_list=[], randomcolor=False):\n",
    "        assert color in ['num', 'back', 'both'], \"color must be either 'num', 'back' or 'both\"\n",
    "        self.pallette = [[255, 0, 0],\n",
    "                         [255, 0, 0],\n",
    "                         [255, 0, 0],\n",
    "                         [0, 255, 0],\n",
    "                         [0, 255, 0],\n",
    "                         [0, 255, 0],\n",
    "                         [0, 0, 255],\n",
    "                         [0, 0, 255],\n",
    "                         [220, 220, 80],\n",
    "                         [220, 220, 80]]\n",
    "\n",
    "        if split == 'train':\n",
    "            fimages = os.path.join(path, 'raw', 'train-images-idx3-ubyte')\n",
    "            flabels = os.path.join(path, 'raw', 'train-labels-idx1-ubyte')\n",
    "        else:\n",
    "            fimages = os.path.join(path, 'raw', 't10k-images-idx3-ubyte')\n",
    "            flabels = os.path.join(path, 'raw', 't10k-labels-idx1-ubyte')\n",
    "\n",
    "        # Load images\n",
    "        with open(fimages, 'rb') as f:\n",
    "            _, _, rows, cols = struct.unpack(\">IIII\", f.read(16))\n",
    "            self.images = np.fromfile(f, dtype=np.uint8).reshape(-1, rows, cols)\n",
    "\n",
    "        # Load labels\n",
    "        with open(flabels, 'rb') as f:\n",
    "            struct.unpack(\">II\", f.read(8))\n",
    "            self.labels = np.fromfile(f, dtype=np.int8)\n",
    "            self.labels = torch.from_numpy(self.labels.astype(np.int))\n",
    "\n",
    "        self.transform_list = transform_list\n",
    "        self.color = color\n",
    "        self.images = np.tile(self.images[:, :, :, np.newaxis], 3)\n",
    "        self.randomcolor = randomcolor\n",
    "\n",
    "    def __len__(self):\n",
    "        return len(self.images)\n",
    "\n",
    "    def __getitem__(self, idx):\n",
    "        image = self.images[idx]  # Range [0,255]\n",
    "        label = self.labels[idx]\n",
    "\n",
    "        # Choose color\n",
    "        if self.randomcolor:\n",
    "            c = self.pallette[np.random.randint(0, 10)]\n",
    "            if self.color == 'both':\n",
    "                while True:\n",
    "                    c2 = self.pallette[np.random.randint(0, 10)]\n",
    "                    if c2 != c: break\n",
    "        else:\n",
    "            if self.color == 'num':\n",
    "                c = self.pallette[-(label + 1)]\n",
    "            elif self.color == 'back':\n",
    "                c = self.pallette[label]\n",
    "            else:\n",
    "                c = self.pallette[label]\n",
    "                c2 = self.pallette[-(label - 3)]\n",
    "\n",
    "        # Assign color according to their class (0,10)\n",
    "        if self.color == 'num':\n",
    "            image[:, :, 0] = image[:, :, 0] / 255 * c[0]\n",
    "            image[:, :, 1] = image[:, :, 1] / 255 * c[1]\n",
    "            image[:, :, 2] = image[:, :, 2] / 255 * c[2]\n",
    "        elif self.color == 'back':\n",
    "            image[:, :, 0] = (255 - image[:, :, 0]) / 255 * c[0]\n",
    "            image[:, :, 1] = (255 - image[:, :, 1]) / 255 * c[1]\n",
    "            image[:, :, 2] = (255 - image[:, :, 2]) / 255 * c[2]\n",
    "        else:\n",
    "            image[:, :, 0] = image[:, :, 0] / 255 * c[0] + (255 - image[:, :, 0]) / 255 * c2[0]\n",
    "            image[:, :, 1] = image[:, :, 1] / 255 * c[1] + (255 - image[:, :, 1]) / 255 * c2[1]\n",
    "            image[:, :, 2] = image[:, :, 2] / 255 * c[2] + (255 - image[:, :, 2]) / 255 * c2[2]\n",
    "\n",
    "        image = Image.fromarray(image)\n",
    "        for t in self.transform_list:\n",
    "            image = t(image)\n",
    "        image = transforms.ToTensor()(image)  # Range [0,1]\n",
    "\n",
    "        return image, label"
   ]
  },
  {
   "cell_type": "code",
   "execution_count": 3,
   "metadata": {},
   "outputs": [],
   "source": [
    "path_to_mnist = 'data/mnist'"
   ]
  },
  {
   "cell_type": "code",
   "execution_count": 4,
   "metadata": {},
   "outputs": [],
   "source": [
    "## Define the NN architecture\n",
    "class Net(nn.Module):\n",
    "    def __init__(self):\n",
    "        super().__init__()\n",
    "        self.l1 = nn.Linear(28*28, 256)\n",
    "        # linear layer (n_hidden -> hidden_2)\n",
    "        self.l2 = nn.Linear(256,256)\n",
    "        # linear layer (n_hidden -> 10)\n",
    "        self.l3 = nn.Linear(256,10)\n",
    "        # dropout prevents overfitting of data\n",
    "        self.dropout_l = nn.Dropout(0.1)\n",
    "\n",
    "    def forward(self,x):\n",
    "        # hidden layer 1\n",
    "        h1 = nn.functional.relu(self.l1(x))\n",
    "        # hidden layer 2\n",
    "        h2 =  nn.functional.relu(self.l2(h1))\n",
    "        # dropout layer\n",
    "        dropout_l = self.dropout_l(h2+h1)\n",
    "        # result layer\n",
    "        res = self.l3(dropout_l)\n",
    "        return res"
   ]
  },
  {
   "cell_type": "code",
   "execution_count": 7,
   "metadata": {},
   "outputs": [
    {
     "name": "stdout",
     "output_type": "stream",
     "text": [
      "Downloading http://yann.lecun.com/exdb/mnist/train-images-idx3-ubyte.gz\n",
      "Downloading http://yann.lecun.com/exdb/mnist/train-images-idx3-ubyte.gz to data\\MNIST\\raw\\train-images-idx3-ubyte.gz\n"
     ]
    },
    {
     "data": {
      "application/vnd.jupyter.widget-view+json": {
       "model_id": "54e9f9c60b6645ac832cbde068254de1",
       "version_major": 2,
       "version_minor": 0
      },
      "text/plain": [
       "  0%|          | 0/9912422 [00:00<?, ?it/s]"
      ]
     },
     "metadata": {},
     "output_type": "display_data"
    },
    {
     "name": "stdout",
     "output_type": "stream",
     "text": [
      "Extracting data\\MNIST\\raw\\train-images-idx3-ubyte.gz to data\\MNIST\\raw\n",
      "\n",
      "Downloading http://yann.lecun.com/exdb/mnist/train-labels-idx1-ubyte.gz\n",
      "Downloading http://yann.lecun.com/exdb/mnist/train-labels-idx1-ubyte.gz to data\\MNIST\\raw\\train-labels-idx1-ubyte.gz\n"
     ]
    },
    {
     "data": {
      "application/vnd.jupyter.widget-view+json": {
       "model_id": "8b838734b6024ea685171ebc17c8726d",
       "version_major": 2,
       "version_minor": 0
      },
      "text/plain": [
       "  0%|          | 0/28881 [00:00<?, ?it/s]"
      ]
     },
     "metadata": {},
     "output_type": "display_data"
    },
    {
     "name": "stdout",
     "output_type": "stream",
     "text": [
      "Extracting data\\MNIST\\raw\\train-labels-idx1-ubyte.gz to data\\MNIST\\raw\n",
      "\n",
      "Downloading http://yann.lecun.com/exdb/mnist/t10k-images-idx3-ubyte.gz\n",
      "Downloading http://yann.lecun.com/exdb/mnist/t10k-images-idx3-ubyte.gz to data\\MNIST\\raw\\t10k-images-idx3-ubyte.gz\n"
     ]
    },
    {
     "data": {
      "application/vnd.jupyter.widget-view+json": {
       "model_id": "b1a71272d3704588855fa7c00fe2bb35",
       "version_major": 2,
       "version_minor": 0
      },
      "text/plain": [
       "  0%|          | 0/1648877 [00:00<?, ?it/s]"
      ]
     },
     "metadata": {},
     "output_type": "display_data"
    },
    {
     "name": "stdout",
     "output_type": "stream",
     "text": [
      "Extracting data\\MNIST\\raw\\t10k-images-idx3-ubyte.gz to data\\MNIST\\raw\n",
      "\n",
      "Downloading http://yann.lecun.com/exdb/mnist/t10k-labels-idx1-ubyte.gz\n",
      "Downloading http://yann.lecun.com/exdb/mnist/t10k-labels-idx1-ubyte.gz to data\\MNIST\\raw\\t10k-labels-idx1-ubyte.gz\n"
     ]
    },
    {
     "data": {
      "application/vnd.jupyter.widget-view+json": {
       "model_id": "c7df5422918149378c2e6534c15d23c2",
       "version_major": 2,
       "version_minor": 0
      },
      "text/plain": [
       "  0%|          | 0/4542 [00:00<?, ?it/s]"
      ]
     },
     "metadata": {},
     "output_type": "display_data"
    },
    {
     "name": "stdout",
     "output_type": "stream",
     "text": [
      "Extracting data\\MNIST\\raw\\t10k-labels-idx1-ubyte.gz to data\\MNIST\\raw\n",
      "\n"
     ]
    }
   ],
   "source": [
    "# defining model with resnet\n",
    "model = Net()\n",
    "\n",
    "# defining epoch number and loss, accuracy list for plotting comparision graph\n",
    "n_epochs=5\n",
    "train_loss = []\n",
    "train_ac = []\n",
    "test_loss = []\n",
    "test_ac = []\n",
    "\n",
    "# specify optimizer\n",
    "params = model.parameters()\n",
    "optimiser=optim.SGD(params, lr=0.01)\n",
    "\n",
    "# specify loss function\n",
    "criterion=nn.CrossEntropyLoss() \n",
    "\n",
    "# choose and loading training and test datasets\n",
    "mnist_data=datasets.MNIST('data', train=True, download=True, transform=transforms.ToTensor())\n",
    "train_data, test_data= random_split(mnist_data, [55000,5000])\n",
    "train_loader = DataLoader(train_data, batch_size=32)\n",
    "test_loader= DataLoader(test_data, batch_size=32)\n",
    "\n",
    "torch.set_printoptions(precision=4)"
   ]
  },
  {
   "cell_type": "code",
   "execution_count": 26,
   "metadata": {},
   "outputs": [
    {
     "name": "stderr",
     "output_type": "stream",
     "text": [
      "C:\\Users\\emren\\AppData\\Local\\Temp/ipykernel_16156/1559879144.py:34: DeprecationWarning: `np.int` is a deprecated alias for the builtin `int`. To silence this warning, use `int` by itself. Doing this will not modify any behavior and is safe. When replacing `np.int`, you may wish to use e.g. `np.int64` or `np.int32` to specify the precision. If you wish to review your current use, check the release note link for additional information.\n",
      "Deprecated in NumPy 1.20; for more details and guidance: https://numpy.org/devdocs/release/1.20.0-notes.html#deprecations\n",
      "  self.labels = torch.from_numpy(self.labels.astype(np.int))\n"
     ]
    },
    {
     "data": {
      "image/png": "[encoded data removed]",
      "text/plain": [
       "<Figure size 432x288 with 1 Axes>"
      ]
     },
     "metadata": {
      "needs_background": "light"
     },
     "output_type": "display_data"
    }
   ],
   "source": [
    "dataloader = ColorMNIST('num', 'train', path_to_mnist, randomcolor=False)\n",
    "dataloader2 = DataLoader(dataloader, batch_size=32)\n",
    "testloader = ColorMNIST('num', 'test', path_to_mnist, randomcolor=False)\n",
    "testloader2 = DataLoader(testloader, batch_size=32)\n",
    "\n",
    "x_all = []\n",
    "for i in [1, 3, 5, 7, 2, 0, 13, 15, 17, 4]:\n",
    "    x_all.append(dataloader[i][0].numpy().transpose([1, 2, 0]))\n",
    "x_all = np.hstack(x_all)\n",
    "\n",
    "plt.imshow(x_all)\n",
    "plt.show()"
   ]
  },
  {
   "cell_type": "code",
   "execution_count": 35,
   "metadata": {},
   "outputs": [
    {
     "ename": "ValueError",
     "evalue": "Expected input batch_size (3) to match target batch_size (0).",
     "output_type": "error",
     "traceback": [
      "\u001b[1;31m---------------------------------------------------------------------------\u001b[0m",
      "\u001b[1;31mValueError\u001b[0m                                Traceback (most recent call last)",
      "\u001b[1;32m~\\AppData\\Local\\Temp/ipykernel_16156/1087092930.py\u001b[0m in \u001b[0;36m<module>\u001b[1;34m\u001b[0m\n\u001b[0;32m     13\u001b[0m         \u001b[0moutput\u001b[0m\u001b[1;33m=\u001b[0m\u001b[0mmodel\u001b[0m\u001b[1;33m(\u001b[0m\u001b[0mdata\u001b[0m\u001b[1;33m)\u001b[0m\u001b[1;33m\u001b[0m\u001b[1;33m\u001b[0m\u001b[0m\n\u001b[0;32m     14\u001b[0m         \u001b[1;31m# calculate the loss\u001b[0m\u001b[1;33m\u001b[0m\u001b[1;33m\u001b[0m\u001b[1;33m\u001b[0m\u001b[0m\n\u001b[1;32m---> 15\u001b[1;33m         \u001b[0mloss\u001b[0m\u001b[1;33m=\u001b[0m\u001b[0mcriterion\u001b[0m\u001b[1;33m(\u001b[0m\u001b[0moutput\u001b[0m\u001b[1;33m,\u001b[0m \u001b[0mtarget\u001b[0m\u001b[1;33m)\u001b[0m\u001b[1;33m\u001b[0m\u001b[1;33m\u001b[0m\u001b[0m\n\u001b[0m\u001b[0;32m     16\u001b[0m         \u001b[1;31m# clear the gradients of all optimized variables\u001b[0m\u001b[1;33m\u001b[0m\u001b[1;33m\u001b[0m\u001b[1;33m\u001b[0m\u001b[0m\n\u001b[0;32m     17\u001b[0m         \u001b[0mmodel\u001b[0m\u001b[1;33m.\u001b[0m\u001b[0mzero_grad\u001b[0m\u001b[1;33m(\u001b[0m\u001b[1;33m)\u001b[0m\u001b[1;33m\u001b[0m\u001b[1;33m\u001b[0m\u001b[0m\n",
      "\u001b[1;32m~\\anaconda3\\envs\\my_environment\\lib\\site-packages\\torch\\nn\\modules\\module.py\u001b[0m in \u001b[0;36m_call_impl\u001b[1;34m(self, *input, **kwargs)\u001b[0m\n\u001b[0;32m   1100\u001b[0m         if not (self._backward_hooks or self._forward_hooks or self._forward_pre_hooks or _global_backward_hooks\n\u001b[0;32m   1101\u001b[0m                 or _global_forward_hooks or _global_forward_pre_hooks):\n\u001b[1;32m-> 1102\u001b[1;33m             \u001b[1;32mreturn\u001b[0m \u001b[0mforward_call\u001b[0m\u001b[1;33m(\u001b[0m\u001b[1;33m*\u001b[0m\u001b[0minput\u001b[0m\u001b[1;33m,\u001b[0m \u001b[1;33m**\u001b[0m\u001b[0mkwargs\u001b[0m\u001b[1;33m)\u001b[0m\u001b[1;33m\u001b[0m\u001b[1;33m\u001b[0m\u001b[0m\n\u001b[0m\u001b[0;32m   1103\u001b[0m         \u001b[1;31m# Do not call functions when jit is used\u001b[0m\u001b[1;33m\u001b[0m\u001b[1;33m\u001b[0m\u001b[1;33m\u001b[0m\u001b[0m\n\u001b[0;32m   1104\u001b[0m         \u001b[0mfull_backward_hooks\u001b[0m\u001b[1;33m,\u001b[0m \u001b[0mnon_full_backward_hooks\u001b[0m \u001b[1;33m=\u001b[0m \u001b[1;33m[\u001b[0m\u001b[1;33m]\u001b[0m\u001b[1;33m,\u001b[0m \u001b[1;33m[\u001b[0m\u001b[1;33m]\u001b[0m\u001b[1;33m\u001b[0m\u001b[1;33m\u001b[0m\u001b[0m\n",
      "\u001b[1;32m~\\anaconda3\\envs\\my_environment\\lib\\site-packages\\torch\\nn\\modules\\loss.py\u001b[0m in \u001b[0;36mforward\u001b[1;34m(self, input, target)\u001b[0m\n\u001b[0;32m   1148\u001b[0m \u001b[1;33m\u001b[0m\u001b[0m\n\u001b[0;32m   1149\u001b[0m     \u001b[1;32mdef\u001b[0m \u001b[0mforward\u001b[0m\u001b[1;33m(\u001b[0m\u001b[0mself\u001b[0m\u001b[1;33m,\u001b[0m \u001b[0minput\u001b[0m\u001b[1;33m:\u001b[0m \u001b[0mTensor\u001b[0m\u001b[1;33m,\u001b[0m \u001b[0mtarget\u001b[0m\u001b[1;33m:\u001b[0m \u001b[0mTensor\u001b[0m\u001b[1;33m)\u001b[0m \u001b[1;33m->\u001b[0m \u001b[0mTensor\u001b[0m\u001b[1;33m:\u001b[0m\u001b[1;33m\u001b[0m\u001b[1;33m\u001b[0m\u001b[0m\n\u001b[1;32m-> 1150\u001b[1;33m         return F.cross_entropy(input, target, weight=self.weight,\n\u001b[0m\u001b[0;32m   1151\u001b[0m                                \u001b[0mignore_index\u001b[0m\u001b[1;33m=\u001b[0m\u001b[0mself\u001b[0m\u001b[1;33m.\u001b[0m\u001b[0mignore_index\u001b[0m\u001b[1;33m,\u001b[0m \u001b[0mreduction\u001b[0m\u001b[1;33m=\u001b[0m\u001b[0mself\u001b[0m\u001b[1;33m.\u001b[0m\u001b[0mreduction\u001b[0m\u001b[1;33m,\u001b[0m\u001b[1;33m\u001b[0m\u001b[1;33m\u001b[0m\u001b[0m\n\u001b[0;32m   1152\u001b[0m                                label_smoothing=self.label_smoothing)\n",
      "\u001b[1;32m~\\anaconda3\\envs\\my_environment\\lib\\site-packages\\torch\\nn\\functional.py\u001b[0m in \u001b[0;36mcross_entropy\u001b[1;34m(input, target, weight, size_average, ignore_index, reduce, reduction, label_smoothing)\u001b[0m\n\u001b[0;32m   2844\u001b[0m     \u001b[1;32mif\u001b[0m \u001b[0msize_average\u001b[0m \u001b[1;32mis\u001b[0m \u001b[1;32mnot\u001b[0m \u001b[1;32mNone\u001b[0m \u001b[1;32mor\u001b[0m \u001b[0mreduce\u001b[0m \u001b[1;32mis\u001b[0m \u001b[1;32mnot\u001b[0m \u001b[1;32mNone\u001b[0m\u001b[1;33m:\u001b[0m\u001b[1;33m\u001b[0m\u001b[1;33m\u001b[0m\u001b[0m\n\u001b[0;32m   2845\u001b[0m         \u001b[0mreduction\u001b[0m \u001b[1;33m=\u001b[0m \u001b[0m_Reduction\u001b[0m\u001b[1;33m.\u001b[0m\u001b[0mlegacy_get_string\u001b[0m\u001b[1;33m(\u001b[0m\u001b[0msize_average\u001b[0m\u001b[1;33m,\u001b[0m \u001b[0mreduce\u001b[0m\u001b[1;33m)\u001b[0m\u001b[1;33m\u001b[0m\u001b[1;33m\u001b[0m\u001b[0m\n\u001b[1;32m-> 2846\u001b[1;33m     \u001b[1;32mreturn\u001b[0m \u001b[0mtorch\u001b[0m\u001b[1;33m.\u001b[0m\u001b[0m_C\u001b[0m\u001b[1;33m.\u001b[0m\u001b[0m_nn\u001b[0m\u001b[1;33m.\u001b[0m\u001b[0mcross_entropy_loss\u001b[0m\u001b[1;33m(\u001b[0m\u001b[0minput\u001b[0m\u001b[1;33m,\u001b[0m \u001b[0mtarget\u001b[0m\u001b[1;33m,\u001b[0m \u001b[0mweight\u001b[0m\u001b[1;33m,\u001b[0m \u001b[0m_Reduction\u001b[0m\u001b[1;33m.\u001b[0m\u001b[0mget_enum\u001b[0m\u001b[1;33m(\u001b[0m\u001b[0mreduction\u001b[0m\u001b[1;33m)\u001b[0m\u001b[1;33m,\u001b[0m \u001b[0mignore_index\u001b[0m\u001b[1;33m,\u001b[0m \u001b[0mlabel_smoothing\u001b[0m\u001b[1;33m)\u001b[0m\u001b[1;33m\u001b[0m\u001b[1;33m\u001b[0m\u001b[0m\n\u001b[0m\u001b[0;32m   2847\u001b[0m \u001b[1;33m\u001b[0m\u001b[0m\n\u001b[0;32m   2848\u001b[0m \u001b[1;33m\u001b[0m\u001b[0m\n",
      "\u001b[1;31mValueError\u001b[0m: Expected input batch_size (3) to match target batch_size (0)."
     ]
    }
   ],
   "source": [
    "for epoch in range(n_epochs):\n",
    "    # prep model for training\n",
    "    model.train()\n",
    "    # creating list to calculate loss and accuracy\n",
    "    loss_list=[]\n",
    "    ac_list=[]\n",
    "    \n",
    "    # train the model\n",
    "    for data,target in dataloader:\n",
    "        data_size=data.size(0)\n",
    "        data=data.view(data_size, -1)\n",
    "        # forward pass: compute predicted outputs by passing inputs to the model\n",
    "        output=model(data) \n",
    "        # calculate the loss\n",
    "        loss=criterion(output, target)\n",
    "        # clear the gradients of all optimized variables\n",
    "        model.zero_grad()\n",
    "        # backward pass: compute gradient of the loss with respect to model parameters\n",
    "        loss.backward()\n",
    "        # parameter update\n",
    "        optimiser.step()\n",
    "        # filling loss and accuracy list\n",
    "        loss_list.append(loss.item())\n",
    "        ac_list.append(target.eq(output.detach().argmax(dim=1).cpu()).float().mean())\n",
    "    # calculate loss and accuracy\n",
    "    train_loss.append(float(torch.tensor(loss_list).mean()) * 100)\n",
    "    train_ac.append(float(torch.tensor(ac_list).mean()) * 100)\n",
    "    print('Epoch: ', epoch+1, '   ','Training loss: ',torch.tensor(loss_list).mean(), '   ','Training accuracy: ',torch.tensor(ac_list).mean())\n",
    "    \n",
    "    # initialize lists to monitor test loss and accuracy\n",
    "    loss_list=[]\n",
    "    ac_list=[]\n",
    "    # *evaluation*\n",
    "    model.eval()\n",
    "\n",
    "    for data,target in testloader:\n",
    "        data_size=data.size(0)\n",
    "        data=data.view(data_size, -1)\n",
    "        # no grad\n",
    "        with torch.no_grad():\n",
    "            output=model(data)\n",
    "        # calculate the loss\n",
    "        loss=criterion(output, target) \n",
    "        # filling loss and accuracy list\n",
    "        loss_list.append(loss.item())\n",
    "        ac_list.append(target.eq(output.detach().argmax(dim=1).cpu()).float().mean())\n",
    "      \n",
    "  # calculate loss and accuracy   \n",
    "    test_loss.append(float(torch.tensor(loss_list).mean()) * 100)\n",
    "    test_ac.append(float(torch.tensor(ac_list).mean()) * 100)\n",
    "    print('Epoch: ', epoch+1, '   ','Training loss: ',torch.tensor(loss_list).mean(), '   ','Training accuracy: ',torch.tensor(ac_list).mean())\n",
    "    \n",
    "  "
   ]
  },
  {
   "cell_type": "code",
   "execution_count": null,
   "metadata": {},
   "outputs": [],
   "source": [
    "x_axis = range(0,5)\n",
    "plt.plot(x_axis, train_loss, 'g', label='Training')\n",
    "plt.plot(x_axis, test_loss, data_size, label='Validation')\n",
    "plt.xlabel('Epoch number')\n",
    "plt.ylabel('Loss rate')\n",
    "plt.title('Graph of Losses')\n",
    "plt.legend()\n",
    "plt.show()\n"
   ]
  },
  {
   "cell_type": "code",
   "execution_count": null,
   "metadata": {},
   "outputs": [],
   "source": [
    "plt.plot(x_axis, train_ac, 'g', label='Training')\n",
    "plt.plot(x_axis, test_ac, data_size, label='Validation')\n",
    "plt.xlabel('Epoch number')\n",
    "plt.ylabel('Accuracy rate')\n",
    "plt.title('Graph of Accuracy')\n",
    "plt.legend()\n",
    "plt.show()"
   ]
  }
 ],
 "metadata": {
  "kernelspec": {
   "display_name": "Python 3 (ipykernel)",
   "language": "python",
   "name": "python3"
  },
  "language_info": {
   "codemirror_mode": {
    "name": "ipython",
    "version": 3
   },
   "file_extension": ".py",
   "mimetype": "text/x-python",
   "name": "python",
   "nbconvert_exporter": "python",
   "pygments_lexer": "ipython3",
   "version": "3.8.12"
  }
 },
 "nbformat": 4,
 "nbformat_minor": 4
}
