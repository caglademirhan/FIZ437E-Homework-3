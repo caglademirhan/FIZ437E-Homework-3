{
 "cells": [
  {
   "cell_type": "markdown",
   "metadata": {},
   "source": [
    "# Assignment 3\n",
    "#### Emre Nuray           090180152\n",
    "#### Ahmet Yusuf Kılıç 090180121\n",
    "#### Çağla Demirhan    090180163"
   ]
  },
  {
   "cell_type": "markdown",
   "metadata": {},
   "source": [
    "## MNIST Multi-Layer Perceptron\n"
   ]
  },
  {
   "cell_type": "code",
   "execution_count": 1,
   "metadata": {},
   "outputs": [],
   "source": [
    "import torch\n",
    "import numpy as np"
   ]
  },
  {
   "cell_type": "code",
   "execution_count": 2,
   "metadata": {},
   "outputs": [],
   "source": [
    "from torchvision import datasets\n",
    "import torchvision.transforms as transforms\n",
    "\n",
    "# choose and loading training and test datasets\n",
    "train_data = datasets.MNIST(root='data', train=True, download=True, transform=transforms.ToTensor())\n",
    "test_data = datasets.MNIST(root='data', train=False, download=True, transform=transforms.ToTensor())\n",
    "\n",
    "train_loader = torch.utils.data.DataLoader(train_data, batch_size=20)\n",
    "test_loader = torch.utils.data.DataLoader(test_data, batch_size=20)"
   ]
  },
  {
   "cell_type": "code",
   "execution_count": 3,
   "metadata": {},
   "outputs": [
    {
     "name": "stderr",
     "output_type": "stream",
     "text": [
      "C:\\Users\\emren\\AppData\\Local\\Temp/ipykernel_11504/4186185134.py:12: MatplotlibDeprecationWarning: Passing non-integers as three-element position specification is deprecated since 3.3 and will be removed two minor releases later.\n",
      "  ax = fig.add_subplot(2, 20/2, idx+1, xticks=[], yticks=[])\n"
     ]
    },
    {
     "data": {
      "image/png": "[encoded data removed]",
      "text/plain": [
       "<Figure size 1800x288 with 20 Axes>"
      ]
     },
     "metadata": {},
     "output_type": "display_data"
    }
   ],
   "source": [
    "import matplotlib.pyplot as plt\n",
    "%matplotlib inline\n",
    "    \n",
    "# obtain one batch of training images\n",
    "dataiter = iter(train_loader)\n",
    "images, labels = dataiter.next()\n",
    "images = images.numpy()\n",
    "\n",
    "# plot the images in the batch, along with the corresponding labels\n",
    "fig = plt.figure(figsize=(25, 4))\n",
    "for idx in np.arange(20):\n",
    "    ax = fig.add_subplot(2, 20/2, idx+1, xticks=[], yticks=[])\n",
    "    ax.imshow(np.squeeze(images[idx]), cmap='gray')\n",
    "    # print out the correct label for each image\n",
    "    ax.set_title(str(labels[idx].item()))"
   ]
  },
  {
   "cell_type": "code",
   "execution_count": 4,
   "metadata": {},
   "outputs": [],
   "source": [
    "import torch.nn as nn\n",
    "import torch.nn.functional as F\n",
    "\n",
    "## Define the NN architecture\n",
    "class Net(nn.Module):\n",
    "    def __init__(self):\n",
    "        super(Net, self).__init__()\n",
    "        self.fc1 = nn.Linear(28 * 28, 512)\n",
    "        # linear layer (n_hidden -> hidden_2)\n",
    "        self.fc2 = nn.Linear(512, 512)\n",
    "        # linear layer (n_hidden -> 10)\n",
    "        self.fc3 = nn.Linear(512, 10)\n",
    "        # dropout layer (p=0.2)\n",
    "        # dropout prevents overfitting of data\n",
    "        self.dropout = nn.Dropout(0.2)\n",
    "\n",
    "    def forward(self, x):\n",
    "        # flatten image input\n",
    "        x = x.view(-1, 28 * 28)\n",
    "        # add hidden layer, with relu activation function\n",
    "        x = F.relu(self.fc1(x))\n",
    "        return x\n",
    "\n",
    "model = Net()"
   ]
  },
  {
   "cell_type": "code",
   "execution_count": 5,
   "metadata": {},
   "outputs": [],
   "source": [
    "# specify loss function\n",
    "criterion = nn.CrossEntropyLoss()\n",
    "\n",
    "# specify optimizer\n",
    "optimizer = torch.optim.SGD(model.parameters(), lr=0.01)"
   ]
  },
  {
   "cell_type": "code",
   "execution_count": 103,
   "metadata": {},
   "outputs": [
    {
     "name": "stdout",
     "output_type": "stream",
     "text": [
      "Epoch:  1     Training Loss:  0.2585819410958017\n",
      "Epoch:  2     Training Loss:  0.25830232146413373\n",
      "Epoch:  3     Training Loss:  0.2580285048281463\n",
      "Epoch:  4     Training Loss:  0.2577602737012785\n",
      "Epoch:  5     Training Loss:  0.2574974224044321\n",
      "Epoch:  6     Training Loss:  0.2572397459944089\n",
      "Epoch:  7     Training Loss:  0.2569870802611113\n",
      "Epoch:  8     Training Loss:  0.256739233924464\n",
      "Epoch:  9     Training Loss:  0.25649604423289807\n",
      "Epoch:  10     Training Loss:  0.25625733807163004\n",
      "Epoch:  11     Training Loss:  0.25602299737829404\n",
      "Epoch:  12     Training Loss:  0.2557928498352412\n",
      "Epoch:  13     Training Loss:  0.2555667729208556\n",
      "Epoch:  14     Training Loss:  0.2553446373185919\n",
      "Epoch:  15     Training Loss:  0.25512630941703296\n",
      "Epoch:  16     Training Loss:  0.2549116710135713\n",
      "Epoch:  17     Training Loss:  0.2547006242829375\n",
      "Epoch:  18     Training Loss:  0.2544930385199065\n",
      "Epoch:  19     Training Loss:  0.2542888174954181\n",
      "Epoch:  20     Training Loss:  0.25408786795513394\n",
      "Epoch:  21     Training Loss:  0.2538900820754934\n",
      "Epoch:  22     Training Loss:  0.25369538995996116\n",
      "Epoch:  23     Training Loss:  0.2535036901916998\n",
      "Epoch:  24     Training Loss:  0.2533148968797177\n",
      "Epoch:  25     Training Loss:  0.2531289384482273\n",
      "Epoch:  26     Training Loss:  0.2529457353125326\n",
      "Epoch:  27     Training Loss:  0.2527652037604712\n",
      "Epoch:  28     Training Loss:  0.2525872928432655\n",
      "Epoch:  29     Training Loss:  0.2524119097033205\n",
      "Epoch:  30     Training Loss:  0.25223900127147014\n",
      "Epoch:  31     Training Loss:  0.2520685044080019\n",
      "Epoch:  32     Training Loss:  0.25190035059287524\n",
      "Epoch:  33     Training Loss:  0.25173449598182923\n",
      "Epoch:  34     Training Loss:  0.25157086650491695\n",
      "Epoch:  35     Training Loss:  0.2514094201028347\n",
      "Epoch:  36     Training Loss:  0.25125010098253064\n",
      "Epoch:  37     Training Loss:  0.25109285142311516\n",
      "Epoch:  38     Training Loss:  0.2509376319904501\n",
      "Epoch:  39     Training Loss:  0.2507843873767027\n",
      "Epoch:  40     Training Loss:  0.2506330760018124\n"
     ]
    }
   ],
   "source": [
    "n_epochs = 40\n",
    "\n",
    "model.train() # prep model for training\n",
    "tr_curve_datas = np.array([])\n",
    "\n",
    "for epoch in range(n_epochs):\n",
    "    train_loss = 0.0\n",
    "    \n",
    "    # train the model\n",
    "    for data, target in train_loader:\n",
    "        # clear the gradients of all optimized variables\n",
    "        optimizer.zero_grad()\n",
    "        # forward pass: compute predicted outputs by passing inputs to the model\n",
    "        output = model(data)\n",
    "        # calculate the loss\n",
    "        loss = criterion(output, target)\n",
    "        # backward pass: compute gradient of the loss with respect to model parameters\n",
    "        loss.backward()\n",
    "        # perform a single optimization step (parameter update)\n",
    "        optimizer.step()\n",
    "        # update running training loss\n",
    "        train_loss += loss.item()*data.size(0)\n",
    "        \n",
    "    # calculate average loss over an epoch\n",
    "    train_loss = train_loss/len(train_loader.dataset)\n",
    "    print('Epoch: ', epoch+1, '   ', \"Training Loss: \",train_loss)\n",
    "    tr_curve_datas = np.append(tr_curve_datas, train_loss)"
   ]
  },
  {
   "cell_type": "code",
   "execution_count": 124,
   "metadata": {},
   "outputs": [
    {
     "name": "stdout",
     "output_type": "stream",
     "text": [
      "Test Loss:  0.26576834751758727\n",
      "Test Accuracy of     0: 97% (960/980)\n",
      "Test Accuracy of     1: 97% (1110/1135)\n",
      "Test Accuracy of     2: 89% (925/1032)\n",
      "Test Accuracy of     3: 91% (920/1010)\n",
      "Test Accuracy of     4: 92% (910/982)\n",
      "Test Accuracy of     5: 88% (785/892)\n",
      "Test Accuracy of     6: 94% (909/958)\n",
      "Test Accuracy of     7: 92% (948/1028)\n",
      "Test Accuracy of     8: 88% (864/974)\n",
      "Test Accuracy of     9: 92% (931/1009)\n",
      "\n",
      "Test Accuracy (Overall): 92% (9262/10000)\n"
     ]
    }
   ],
   "source": [
    "# initialize lists to monitor test loss and accuracy\n",
    "test_loss = 0.0\n",
    "class_correct = list(0. for i in range(10))\n",
    "class_total = list(0. for i in range(10))\n",
    "nn_acc_datas = np.array([])\n",
    "\n",
    "model.eval() # *evaluation*\n",
    "\n",
    "for data, target in test_loader:\n",
    "    # forward pass: compute predicted outputs by passing inputs to the model\n",
    "    output = model(data)\n",
    "    # calculate the loss\n",
    "    loss = criterion(output, target)\n",
    "    # update test loss \n",
    "    test_loss += loss.item()*data.size(0)\n",
    "    # convert output probabilities to predicted class\n",
    "    _, pred = torch.max(output, 1)\n",
    "    # compare predictions to true label\n",
    "    correct = np.squeeze(pred.eq(target.data.view_as(pred)))\n",
    "    # calculate test accuracy for each object class\n",
    "    for i in range(20):\n",
    "        label = target.data[i]\n",
    "        class_correct[label] += correct[i].item()\n",
    "        class_total[label] += 1\n",
    "\n",
    "# calculate and print avg test loss\n",
    "test_loss = test_loss/len(test_loader.dataset)\n",
    "print('Test Loss: ', test_loss)\n",
    "\n",
    "for i in range(10):\n",
    "    if class_total[i] > 0:\n",
    "        print('Test Accuracy of %5s: %2d%% (%2d/%2d)' % (\n",
    "            str(i), 100 * class_correct[i] / class_total[i],\n",
    "            np.sum(class_correct[i]), np.sum(class_total[i])))\n",
    "        nn_acc_datas = np.append(nn_acc_datas, 100 * class_correct[i] / class_total[i])\n",
    "    else:\n",
    "        print('Test Accuracy of %5s: N/A (no training examples)' % (classes[i]))\n",
    "\n",
    "print('\\nTest Accuracy (Overall): %2d%% (%2d/%2d)' % (\n",
    "    100. * np.sum(class_correct) / np.sum(class_total),\n",
    "    np.sum(class_correct), np.sum(class_total)))\n",
    "\n",
    "\n"
   ]
  },
  {
   "cell_type": "code",
   "execution_count": 47,
   "metadata": {},
   "outputs": [
    {
     "name": "stderr",
     "output_type": "stream",
     "text": [
      "C:\\Users\\emren\\AppData\\Local\\Temp/ipykernel_11504/4057720308.py:16: MatplotlibDeprecationWarning: Passing non-integers as three-element position specification is deprecated since 3.3 and will be removed two minor releases later.\n",
      "  ax = fig.add_subplot(1, 20/2, idx+1, xticks=[], yticks=[])\n"
     ]
    },
    {
     "data": {
      "image/png": "[encoded data removed]",
      "text/plain": [
       "<Figure size 1800x288 with 10 Axes>"
      ]
     },
     "metadata": {},
     "output_type": "display_data"
    }
   ],
   "source": [
    "# obtain one batch of test images\n",
    "dataiter = iter(test_loader)\n",
    "images, labels = dataiter.next()\n",
    "\n",
    "# get sample outputs\n",
    "output = model(images)\n",
    "# convert output probabilities to predicted class\n",
    "_, preds = torch.max(output, 1)\n",
    "# prep images for display\n",
    "images = images.numpy()\n",
    "\n",
    "fig = plt.figure(figsize=(25, 4))\n",
    "\n",
    "for idx in np.arange(10):\n",
    "    sample = np.random.randint(0,10)\n",
    "    ax = fig.add_subplot(1, 20/2, idx+1, xticks=[], yticks=[])\n",
    "    ax.imshow(np.squeeze(images[sample]), cmap='gray')\n",
    "    ax.set_title(\"{} ({})\".format(str(preds[sample].item()), str(labels[sample].item())),\n",
    "                 color=(\"black\" if preds[sample]==labels[sample] else \"red\"))"
   ]
  },
  {
   "cell_type": "markdown",
   "metadata": {},
   "source": [
    "## MNIST with SVM"
   ]
  },
  {
   "cell_type": "code",
   "execution_count": 53,
   "metadata": {},
   "outputs": [
    {
     "name": "stdout",
     "output_type": "stream",
     "text": [
      "fetched !\n",
      "SVC Model using regularization accuracy: \t 0.8841594202898551 \n",
      "\n"
     ]
    }
   ],
   "source": [
    "from sklearn.model_selection import train_test_split\n",
    "from sklearn.datasets import fetch_openml\n",
    "from sklearn import metrics\n",
    "from sklearn.svm import SVC\n",
    "\n",
    "X, y = fetch_openml('mnist_784', version=1, return_X_y=True)\n",
    "X = X /255.0\n",
    "\n",
    "print(\"fetched !\")\n",
    "\n",
    "X_train, X_test = X[:1000], X[1000:] ;    y_train, y_test = y[:1000], y[1000:]\n",
    "\n",
    "model_SVC_wr = SVC(C=10, gamma=0.001, kernel=\"rbf\")\n",
    "model_SVC_wr.fit(X_train, y_train)\n",
    "y_predict_SVC_wr = model_SVC_wr.predict(X_test)\n",
    "\n",
    "print(\"SVC Model using regularization accuracy: \\t\",\n",
    "        metrics.accuracy_score(y_test, y_predict_SVC_wr), \"\\n\")"
   ]
  },
  {
   "cell_type": "markdown",
   "metadata": {},
   "source": [
    "## Plotting Learning Curve"
   ]
  },
  {
   "cell_type": "markdown",
   "metadata": {},
   "source": [
    "### SVM"
   ]
  },
  {
   "cell_type": "code",
   "execution_count": 120,
   "metadata": {},
   "outputs": [
    {
     "data": {
      "text/plain": [
       "[<matplotlib.lines.Line2D at 0x254967d8e50>]"
      ]
     },
     "execution_count": 120,
     "metadata": {},
     "output_type": "execute_result"
    },
    {
     "data": {
      "image/png": "[encoded data removed]",
      "text/plain": [
       "<Figure size 432x288 with 1 Axes>"
      ]
     },
     "metadata": {
      "needs_background": "light"
     },
     "output_type": "display_data"
    }
   ],
   "source": [
    "from sklearn.model_selection import learning_curve\n",
    "from sklearn.datasets import load_digits\n",
    "\n",
    "estimator = SVC(gamma=0.001)\n",
    "\n",
    "train_sizes, train_scores, test_scores, fit_times, _ = learning_curve(estimator, X, y, cv=30,return_times=True)\n",
    "\n",
    "plt.plot(train_sizes,np.mean(train_scores,axis=1))"
   ]
  },
  {
   "cell_type": "markdown",
   "metadata": {},
   "source": [
    "### NN (MLP)"
   ]
  },
  {
   "cell_type": "code",
   "execution_count": 123,
   "metadata": {},
   "outputs": [
    {
     "data": {
      "text/plain": [
       "[<matplotlib.lines.Line2D at 0x25495d8f280>]"
      ]
     },
     "execution_count": 123,
     "metadata": {},
     "output_type": "execute_result"
    },
    {
     "data": {
      "image/png": "[encoded data removed]",
      "text/plain": [
       "<Figure size 432x288 with 1 Axes>"
      ]
     },
     "metadata": {
      "needs_background": "light"
     },
     "output_type": "display_data"
    }
   ],
   "source": [
    "plt.plot(tr_curve_datas[:-1]-tr_curve_datas[1:])"
   ]
  },
  {
   "cell_type": "code",
   "execution_count": null,
   "metadata": {},
   "outputs": [],
   "source": []
  }
 ],
 "metadata": {
  "anaconda-cloud": {},
  "kernelspec": {
   "display_name": "Python 3 (ipykernel)",
   "language": "python",
   "name": "python3"
  },
  "language_info": {
   "codemirror_mode": {
    "name": "ipython",
    "version": 3
   },
   "file_extension": ".py",
   "mimetype": "text/x-python",
   "name": "python",
   "nbconvert_exporter": "python",
   "pygments_lexer": "ipython3",
   "version": "3.8.12"
  }
 },
 "nbformat": 4,
 "nbformat_minor": 2
}
